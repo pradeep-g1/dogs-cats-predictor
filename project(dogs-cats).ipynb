{
 "cells": [
  {
   "cell_type": "code",
   "execution_count": 1,
   "metadata": {},
   "outputs": [],
   "source": [
    "import tensorflow as tf\n",
    "from keras.preprocessing.image import ImageDataGenerator"
   ]
  },
  {
   "cell_type": "code",
   "execution_count": 2,
   "metadata": {},
   "outputs": [
    {
     "data": {
      "text/plain": [
       "'2.11.0'"
      ]
     },
     "execution_count": 2,
     "metadata": {},
     "output_type": "execute_result"
    }
   ],
   "source": [
    "tf.__version__"
   ]
  },
  {
   "cell_type": "code",
   "execution_count": 3,
   "metadata": {},
   "outputs": [
    {
     "name": "stdout",
     "output_type": "stream",
     "text": [
      "Found 8000 images belonging to 2 classes.\n"
     ]
    }
   ],
   "source": [
    "train_datagen=ImageDataGenerator(rescale=1./255,shear_range=0.2,zoom_range=0.2,horizontal_flip=True)\n",
    "training_set=train_datagen.flow_from_directory('dogs_cats/training_set',target_size=(64,64),batch_size=32,class_mode='binary')"
   ]
  },
  {
   "cell_type": "code",
   "execution_count": 4,
   "metadata": {},
   "outputs": [
    {
     "name": "stdout",
     "output_type": "stream",
     "text": [
      "Found 2000 images belonging to 2 classes.\n"
     ]
    }
   ],
   "source": [
    "test_datagen=ImageDataGenerator(rescale=1./255)\n",
    "test_set=test_datagen.flow_from_directory('dogs_cats/test_set',target_size=(64,64),batch_size=32,class_mode='binary')"
   ]
  },
  {
   "cell_type": "markdown",
   "metadata": {},
   "source": [
    "    # PART 2 BUILDING THE CNN"
   ]
  },
  {
   "cell_type": "raw",
   "metadata": {},
   "source": [
    "**initializing the cnn**"
   ]
  },
  {
   "cell_type": "code",
   "execution_count": 5,
   "metadata": {},
   "outputs": [],
   "source": [
    "cnn=tf.keras.models.Sequential()"
   ]
  },
  {
   "cell_type": "markdown",
   "metadata": {},
   "source": [
    "# step1 - convolution"
   ]
  },
  {
   "cell_type": "code",
   "execution_count": 6,
   "metadata": {},
   "outputs": [],
   "source": [
    "cnn.add(tf.keras.layers.Conv2D(filters=32,kernel_size=3,activation='relu',input_shape=[64,64,3]))"
   ]
  },
  {
   "cell_type": "markdown",
   "metadata": {},
   "source": [
    "# step2-Pooling"
   ]
  },
  {
   "cell_type": "code",
   "execution_count": 7,
   "metadata": {},
   "outputs": [],
   "source": [
    "cnn.add(tf.keras.layers.MaxPool2D(pool_size=2,strides=2))"
   ]
  },
  {
   "cell_type": "markdown",
   "metadata": {},
   "source": [
    "# Adding a second convolutional layer"
   ]
  },
  {
   "cell_type": "code",
   "execution_count": 8,
   "metadata": {},
   "outputs": [],
   "source": [
    "cnn.add(tf.keras.layers.Conv2D(filters=32,kernel_size=3,activation='relu'))\n",
    "cnn.add(tf.keras.layers.MaxPool2D(pool_size=2,strides=2))"
   ]
  },
  {
   "cell_type": "markdown",
   "metadata": {},
   "source": [
    "# step3-Flattening"
   ]
  },
  {
   "cell_type": "code",
   "execution_count": 9,
   "metadata": {},
   "outputs": [],
   "source": [
    "cnn.add(tf.keras.layers.Flatten())"
   ]
  },
  {
   "cell_type": "markdown",
   "metadata": {},
   "source": [
    "# step4-Full connection"
   ]
  },
  {
   "cell_type": "code",
   "execution_count": 10,
   "metadata": {},
   "outputs": [],
   "source": [
    "cnn.add(tf.keras.layers.Dense(units=128,activation='relu'))"
   ]
  },
  {
   "cell_type": "markdown",
   "metadata": {},
   "source": [
    "# step5-Output layer"
   ]
  },
  {
   "cell_type": "code",
   "execution_count": 11,
   "metadata": {},
   "outputs": [],
   "source": [
    "cnn.add(tf.keras.layers.Dense(units=1,activation='sigmoid'))"
   ]
  },
  {
   "cell_type": "markdown",
   "metadata": {},
   "source": [
    "#Part3 TRAINING THE CNN"
   ]
  },
  {
   "cell_type": "markdown",
   "metadata": {},
   "source": [
    "# compiling the cnn"
   ]
  },
  {
   "cell_type": "code",
   "execution_count": 12,
   "metadata": {},
   "outputs": [],
   "source": [
    "cnn.compile(optimizer='adam',loss='binary_crossentropy',metrics=['accuracy'])"
   ]
  },
  {
   "cell_type": "markdown",
   "metadata": {},
   "source": [
    "# training the cnn on the training set and evaluating it on the test set"
   ]
  },
  {
   "cell_type": "code",
   "execution_count": 13,
   "metadata": {},
   "outputs": [
    {
     "name": "stdout",
     "output_type": "stream",
     "text": [
      "Epoch 1/25\n",
      "250/250 [==============================] - 324s 1s/step - loss: 0.6778 - accuracy: 0.5726 - val_loss: 0.6522 - val_accuracy: 0.6315\n",
      "Epoch 2/25\n",
      "250/250 [==============================] - 233s 934ms/step - loss: 0.6374 - accuracy: 0.6461 - val_loss: 0.6167 - val_accuracy: 0.6860\n",
      "Epoch 3/25\n",
      "250/250 [==============================] - 248s 994ms/step - loss: 0.6098 - accuracy: 0.6714 - val_loss: 0.5877 - val_accuracy: 0.7105\n",
      "Epoch 4/25\n",
      "250/250 [==============================] - 276s 1s/step - loss: 0.5772 - accuracy: 0.6940 - val_loss: 0.5812 - val_accuracy: 0.6885\n",
      "Epoch 5/25\n",
      "250/250 [==============================] - 298s 1s/step - loss: 0.5449 - accuracy: 0.7293 - val_loss: 0.5345 - val_accuracy: 0.7450\n",
      "Epoch 6/25\n",
      "250/250 [==============================] - 245s 979ms/step - loss: 0.5191 - accuracy: 0.7452 - val_loss: 0.5155 - val_accuracy: 0.7495\n",
      "Epoch 7/25\n",
      "250/250 [==============================] - 227s 907ms/step - loss: 0.4986 - accuracy: 0.7556 - val_loss: 0.5197 - val_accuracy: 0.7450\n",
      "Epoch 8/25\n",
      "250/250 [==============================] - 216s 864ms/step - loss: 0.4794 - accuracy: 0.7710 - val_loss: 0.5404 - val_accuracy: 0.7450\n",
      "Epoch 9/25\n",
      "250/250 [==============================] - 255s 1s/step - loss: 0.4577 - accuracy: 0.7828 - val_loss: 0.5016 - val_accuracy: 0.7600\n",
      "Epoch 10/25\n",
      "250/250 [==============================] - 161s 643ms/step - loss: 0.4341 - accuracy: 0.7968 - val_loss: 0.5011 - val_accuracy: 0.7770\n",
      "Epoch 11/25\n",
      "250/250 [==============================] - 146s 583ms/step - loss: 0.4229 - accuracy: 0.8010 - val_loss: 0.5019 - val_accuracy: 0.7650\n",
      "Epoch 12/25\n",
      "250/250 [==============================] - 143s 570ms/step - loss: 0.4009 - accuracy: 0.8171 - val_loss: 0.4976 - val_accuracy: 0.7670\n",
      "Epoch 13/25\n",
      "250/250 [==============================] - 154s 615ms/step - loss: 0.3799 - accuracy: 0.8271 - val_loss: 0.4956 - val_accuracy: 0.7810\n",
      "Epoch 14/25\n",
      "250/250 [==============================] - 161s 644ms/step - loss: 0.3613 - accuracy: 0.8372 - val_loss: 0.5218 - val_accuracy: 0.7705\n",
      "Epoch 15/25\n",
      "250/250 [==============================] - 150s 599ms/step - loss: 0.3429 - accuracy: 0.8460 - val_loss: 0.5273 - val_accuracy: 0.7730\n",
      "Epoch 16/25\n",
      "250/250 [==============================] - 145s 578ms/step - loss: 0.3174 - accuracy: 0.8615 - val_loss: 0.5149 - val_accuracy: 0.7790\n",
      "Epoch 17/25\n",
      "250/250 [==============================] - 149s 594ms/step - loss: 0.3071 - accuracy: 0.8661 - val_loss: 0.5230 - val_accuracy: 0.7655\n",
      "Epoch 18/25\n",
      "250/250 [==============================] - 130s 518ms/step - loss: 0.2741 - accuracy: 0.8850 - val_loss: 0.5892 - val_accuracy: 0.7655\n",
      "Epoch 19/25\n",
      "250/250 [==============================] - 144s 574ms/step - loss: 0.2633 - accuracy: 0.8916 - val_loss: 0.5682 - val_accuracy: 0.7770\n",
      "Epoch 20/25\n",
      "250/250 [==============================] - 147s 589ms/step - loss: 0.2427 - accuracy: 0.8949 - val_loss: 0.5826 - val_accuracy: 0.7750\n",
      "Epoch 21/25\n",
      "250/250 [==============================] - 154s 614ms/step - loss: 0.2353 - accuracy: 0.9034 - val_loss: 0.5894 - val_accuracy: 0.7845\n",
      "Epoch 22/25\n",
      "250/250 [==============================] - 194s 777ms/step - loss: 0.2175 - accuracy: 0.9091 - val_loss: 0.6052 - val_accuracy: 0.7715\n",
      "Epoch 23/25\n",
      "250/250 [==============================] - 286s 1s/step - loss: 0.2056 - accuracy: 0.9172 - val_loss: 0.5862 - val_accuracy: 0.7835\n",
      "Epoch 24/25\n",
      "250/250 [==============================] - 224s 893ms/step - loss: 0.1899 - accuracy: 0.9241 - val_loss: 0.7169 - val_accuracy: 0.7715\n",
      "Epoch 25/25\n",
      "250/250 [==============================] - 141s 562ms/step - loss: 0.1712 - accuracy: 0.9304 - val_loss: 0.6679 - val_accuracy: 0.7785\n"
     ]
    },
    {
     "data": {
      "text/plain": [
       "<keras.callbacks.History at 0x7fbb9cd4e190>"
      ]
     },
     "execution_count": 13,
     "metadata": {},
     "output_type": "execute_result"
    }
   ],
   "source": [
    "cnn.fit(x=training_set,validation_data=test_set,epochs=25)"
   ]
  },
  {
   "cell_type": "markdown",
   "metadata": {},
   "source": [
    "# part4 - Making a single prediction"
   ]
  },
  {
   "cell_type": "code",
   "execution_count": 41,
   "metadata": {},
   "outputs": [
    {
     "name": "stdout",
     "output_type": "stream",
     "text": [
      "1/1 [==============================] - 0s 46ms/step\n"
     ]
    }
   ],
   "source": [
    "import numpy as np\n",
    "from keras.preprocessing import image\n",
    "test_image=tf.keras.utils.load_img('dogs_cats/single_prediction/cat_dog7.jpg',target_size=(64,64))\n",
    "test_image=tf.keras.utils.img_to_array(test_image)\n",
    "test_image=np.expand_dims(test_image,axis=0)\n",
    "result=cnn.predict(test_image)\n",
    "training_set.class_indices\n",
    "if result[0][0]==1:\n",
    "    prediction='dog'\n",
    "else:\n",
    "    prediction='cat'"
   ]
  },
  {
   "cell_type": "code",
   "execution_count": 42,
   "metadata": {},
   "outputs": [
    {
     "name": "stdout",
     "output_type": "stream",
     "text": [
      "dog\n"
     ]
    }
   ],
   "source": [
    "print(prediction)"
   ]
  },
  {
   "cell_type": "code",
   "execution_count": 43,
   "metadata": {},
   "outputs": [
    {
     "name": "stdout",
     "output_type": "stream",
     "text": [
      "[[1.]]\n"
     ]
    }
   ],
   "source": [
    "print(result)"
   ]
  },
  {
   "cell_type": "code",
   "execution_count": null,
   "metadata": {},
   "outputs": [],
   "source": []
  }
 ],
 "metadata": {
  "kernelspec": {
   "display_name": "Python 3",
   "language": "python",
   "name": "python3"
  },
  "language_info": {
   "codemirror_mode": {
    "name": "ipython",
    "version": 3
   },
   "file_extension": ".py",
   "mimetype": "text/x-python",
   "name": "python",
   "nbconvert_exporter": "python",
   "pygments_lexer": "ipython3",
   "version": "3.7.6"
  }
 },
 "nbformat": 4,
 "nbformat_minor": 4
}
